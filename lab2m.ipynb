{
 "cells": [
  {
   "cell_type": "code",
   "execution_count": 1,
   "metadata": {},
   "outputs": [
    {
     "name": "stdout",
     "output_type": "stream",
     "text": [
      "Requirement already up-to-date: typing-extensions in /home/and/.local/lib/python3.8/site-packages (4.8.0)\n"
     ]
    },
    {
     "ename": "NameError",
     "evalue": "name 'cv2' is not defined",
     "output_type": "error",
     "traceback": [
      "\u001b[0;31m---------------------------------------------------------------------------\u001b[0m",
      "\u001b[0;31mNameError\u001b[0m                                 Traceback (most recent call last)",
      "\u001b[1;32m/home/and/Python/lab2m.ipynb Cell 1\u001b[0m line \u001b[0;36m2\n\u001b[1;32m     <a href='vscode-notebook-cell:/home/and/Python/lab2m.ipynb#W0sZmlsZQ%3D%3D?line=17'>18</a>\u001b[0m     \u001b[39mreturn\u001b[39;00m equalized_image\n\u001b[1;32m     <a href='vscode-notebook-cell:/home/and/Python/lab2m.ipynb#W0sZmlsZQ%3D%3D?line=19'>20</a>\u001b[0m \u001b[39m# Пример использования\u001b[39;00m\n\u001b[0;32m---> <a href='vscode-notebook-cell:/home/and/Python/lab2m.ipynb#W0sZmlsZQ%3D%3D?line=20'>21</a>\u001b[0m gray_image1 \u001b[39m=\u001b[39m cv2\u001b[39m.\u001b[39mimread(\u001b[39m'\u001b[39m\u001b[39mlenna.png\u001b[39m\u001b[39m'\u001b[39m, cv2\u001b[39m.\u001b[39mIMREAD_GRAYSCALE)\n\u001b[1;32m     <a href='vscode-notebook-cell:/home/and/Python/lab2m.ipynb#W0sZmlsZQ%3D%3D?line=22'>23</a>\u001b[0m result_image \u001b[39m=\u001b[39m histogram_equalization(gray_image1)\n\u001b[1;32m     <a href='vscode-notebook-cell:/home/and/Python/lab2m.ipynb#W0sZmlsZQ%3D%3D?line=24'>25</a>\u001b[0m \u001b[39m# Отображение исходного и эквализированного изображений\u001b[39;00m\n",
      "\u001b[0;31mNameError\u001b[0m: name 'cv2' is not defined"
     ]
    }
   ],
   "source": [
    "!pip install --upgrade typing-extensions\n",
    "import numpy as np\n",
    "import cv2\n",
    "import matplotlib.pyplot as plt\n",
    "\n",
    "def sum_i(i, hist):\n",
    "    return np.sum(hist[:i+1])\n",
    "\n",
    "def histogram_equalization(image):\n",
    "    hist, bins = np.histogram(image.flatten(), 256, [0, 256])\n",
    "    lut = np.empty(256)\n",
    "\n",
    "    for i in range(256):\n",
    "        lut[i] = 255 * sum_i(i, hist) / sum(hist)\n",
    "\n",
    "    equalized_image = lut[image]\n",
    "    equalized_image = equalized_image.astype(np.uint8)\n",
    "\n",
    "    return equalized_image\n",
    "\n",
    "# Пример использования\n",
    "gray_image1 = cv2.imread('lenna.png', cv2.IMREAD_GRAYSCALE)\n",
    "\n",
    "result_image = histogram_equalization(gray_image1)\n",
    "\n",
    "# Отображение исходного и эквализированного изображений\n",
    "plt.figure(figsize=(10, 8))\n",
    "\n",
    "plt.subplot(2, 2, 1)\n",
    "plt.imshow(gray_image1, cmap='gray')\n",
    "plt.title('Original Image')\n",
    "\n",
    "plt.subplot(2, 2, 2)\n",
    "plt.imshow(result_image, cmap='gray')\n",
    "plt.title('Equalized Image')\n",
    "\n",
    "plt.subplot(2, 2, 3)\n",
    "plt.hist(gray_image1.ravel(), 256, [0, 256])\n",
    "plt.title('Original Histogram')\n",
    "\n",
    "plt.subplot(2, 2, 4)\n",
    "plt.hist(result_image.ravel(), 256, [0, 256])\n",
    "plt.title('Equalized Histogram')\n",
    "\n",
    "plt.show()\n"
   ]
  }
 ],
 "metadata": {
  "kernelspec": {
   "display_name": "Python 3",
   "language": "python",
   "name": "python3"
  },
  "language_info": {
   "codemirror_mode": {
    "name": "ipython",
    "version": 3
   },
   "file_extension": ".py",
   "mimetype": "text/x-python",
   "name": "python",
   "nbconvert_exporter": "python",
   "pygments_lexer": "ipython3",
   "version": "3.8.10"
  }
 },
 "nbformat": 4,
 "nbformat_minor": 2
}
